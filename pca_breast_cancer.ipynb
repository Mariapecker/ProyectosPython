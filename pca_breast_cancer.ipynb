{
  "nbformat": 4,
  "nbformat_minor": 0,
  "metadata": {
    "colab": {
      "private_outputs": true,
      "provenance": [],
      "include_colab_link": true
    },
    "kernelspec": {
      "name": "python3",
      "display_name": "Python 3"
    },
    "language_info": {
      "name": "python"
    }
  },
  "cells": [
    {
      "cell_type": "markdown",
      "metadata": {
        "id": "view-in-github",
        "colab_type": "text"
      },
      "source": [
        "<a href=\"https://colab.research.google.com/github/Mariapecker/ProyectosPython/blob/main/pca_breast_cancer.ipynb\" target=\"_parent\"><img src=\"https://colab.research.google.com/assets/colab-badge.svg\" alt=\"Open In Colab\"/></a>"
      ]
    },
    {
      "cell_type": "code",
      "execution_count": null,
      "metadata": {
        "id": "71AyRsyjx1hz"
      },
      "outputs": [],
      "source": [
        "from sklearn.datasets import load_breast_cancer\n",
        "import numpy as np\n",
        "from sklearn.decomposition import PCA\n",
        "from sklearn.preprocessing import StandardScaler\n",
        "import matplotlib.pyplot as plt\n",
        "import pandas as pd\n",
        "\n",
        "data = load_breast_cancer()\n",
        "\n",
        "X = data.data\n",
        "y = data.target\n",
        "\n",
        "type(data)\n",
        "\n",
        "print(data.keys())\n",
        "print(data.DESCR)\n",
        "print(data.feature_names)\n",
        "print('----')\n",
        "print(data.target_names)\n",
        "\n",
        "df = pd.DataFrame(data.data, columns=data.feature_names)\n",
        "df['target'] = data.target\n",
        "df.head()\n",
        "df.to_excel('breast_cancer.xlsx')"
      ]
    },
    {
      "cell_type": "code",
      "source": [
        "# Estandarizar los datos\n",
        "scaler = StandardScaler()\n",
        "X_scaled = scaler.fit_transform(X)\n",
        "\n",
        "# Aplicar PCA\n",
        "pca = PCA(n_components=2)\n",
        "X_pca = pca.fit_transform(X_scaled)\n",
        "\n",
        "# Crear un DataFrame para facilitar la visualización\n",
        "df_pca = pd.DataFrame(data = X_pca, columns = ['Principal Component 1', 'Principal Component 2'])\n",
        "df_pca['Diagnosis'] = y"
      ],
      "metadata": {
        "id": "639K6_3fysNg"
      },
      "execution_count": null,
      "outputs": []
    },
    {
      "cell_type": "code",
      "source": [
        "# Visualización\n",
        "plt.figure(figsize=(8,6))\n",
        "targets = [1, 0]\n",
        "colors = ['r', 'b']\n",
        "labels = ['Benign', 'Malignant']\n",
        "\n",
        "for target, color, label in zip(targets, colors, labels):\n",
        "    indices_a_mantener = df_pca['Diagnosis'] == target\n",
        "    plt.scatter(df_pca.loc[indices_a_mantener, 'Principal Component 1']\n",
        "               , df_pca.loc[indices_a_mantener, 'Principal Component 2']\n",
        "               , c = color\n",
        "               , s = 50\n",
        "               , label = label\n",
        "               , alpha=0.5)\n",
        "\n",
        "plt.xlabel('Principal Component 1')\n",
        "plt.ylabel('Principal Component 2')\n",
        "plt.title('2 component PCA')\n",
        "plt.legend(labels)\n",
        "plt.grid(True)\n",
        "plt.show()"
      ],
      "metadata": {
        "id": "ujyiUg-LyjN4"
      },
      "execution_count": null,
      "outputs": []
    },
    {
      "cell_type": "code",
      "source": [
        "componentes = pca.components_\n",
        "\n",
        "df_componentes = pd.DataFrame(componentes, columns=data.feature_names, index=[f'Componente Principal {i+1}' for i in range(2)])\n",
        "\n",
        "print(df_componentes)\n",
        "\n",
        "for i in range(len(df_componentes)):\n",
        "    pc = f'Componente Principal {i+1}'\n",
        "    sorted_contributions = df_componentes.loc[pc].abs().sort_values(ascending=False)\n",
        "    top_10_contributors = sorted_contributions.head(10)\n",
        "    print(top_10_contributors)\n",
        "    print(\"\\n\")"
      ],
      "metadata": {
        "id": "gJOvebDHGbyf"
      },
      "execution_count": null,
      "outputs": []
    }
  ]
}